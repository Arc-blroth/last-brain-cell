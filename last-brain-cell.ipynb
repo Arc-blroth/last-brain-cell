{
 "cells": [
  {
   "cell_type": "code",
   "execution_count": 50,
   "id": "4eb7cb75",
   "metadata": {},
   "outputs": [],
   "source": [
    "# By William Zhou & Andrew Kuai\n",
    "\n",
    "import random\n",
    "xs = [0, 1]\n",
    "ys = [1, 0]\n",
    "w = -0.2\n",
    "b = 0.71515 # chosen by chatgpt3, the superior rng\n",
    "rho = 1e-2\n",
    "momentum = 0.9"
   ]
  },
  {
   "cell_type": "code",
   "execution_count": 51,
   "id": "e6e49ed9",
   "metadata": {},
   "outputs": [],
   "source": [
    "d = lambda x : w * x + b\n",
    "a = lambda x : max(d(x), 0)\n",
    "f = lambda x : a(x)\n",
    "L = lambda x, y: (a(x) - y)**2\n",
    "\n",
    "ap = lambda x : 1 if (x > 0) else 0\n",
    "GwL = lambda x, y : 2 * (f(x) - y) * ap(d(x)) * x\n",
    "GbL = lambda x, y : 2 * (f(x) - y) * ap(d(x))"
   ]
  },
  {
   "cell_type": "code",
   "execution_count": null,
   "id": "529b75fb",
   "metadata": {},
   "outputs": [],
   "source": [
    "last_GwL, last_GbL = 0, 0\n",
    "for i in range(10000):\n",
    "    x, y = xs[i%len(xs)], ys[i%len(ys)]\n",
    "    print(w, b, L(x, y), GwL(x, y), GbL(x, y))\n",
    "    last_GbL = GbL(x, y) * (1-momentum) + last_GbL * momentum\n",
    "    last_GwL = GwL(x, y) * (1-momentum) + last_GwL * momentum\n",
    "    b -= last_GbL * momentum * rho\n",
    "    w -= last_GwL * momentum * rho"
   ]
  },
  {
   "cell_type": "code",
   "execution_count": 55,
   "id": "2d276505",
   "metadata": {},
   "outputs": [
    {
     "name": "stdout",
     "output_type": "stream",
     "text": [
      "0.9999999999999892\n",
      "5.551115123125783e-15\n"
     ]
    }
   ],
   "source": [
    "print(f(0))\n",
    "print(f(1))"
   ]
  }
 ],
 "metadata": {
  "kernelspec": {
   "display_name": "Python 3 (ipykernel)",
   "language": "python",
   "name": "python3"
  },
  "language_info": {
   "codemirror_mode": {
    "name": "ipython",
    "version": 3
   },
   "file_extension": ".py",
   "mimetype": "text/x-python",
   "name": "python",
   "nbconvert_exporter": "python",
   "pygments_lexer": "ipython3",
   "version": "3.10.8"
  }
 },
 "nbformat": 4,
 "nbformat_minor": 5
}
